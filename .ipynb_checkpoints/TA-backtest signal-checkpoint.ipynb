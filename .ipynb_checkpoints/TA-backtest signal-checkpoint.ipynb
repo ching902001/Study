{
 "cells": [
  {
   "cell_type": "code",
   "execution_count": 1,
   "id": "631539ea",
   "metadata": {},
   "outputs": [],
   "source": [
    "import pandas as pd\n",
    "import pandas_ta as ta\n",
    "\n",
    "code = \"^HSI\""
   ]
  },
  {
   "cell_type": "code",
   "execution_count": null,
   "id": "a109ae19",
   "metadata": {},
   "outputs": [],
   "source": []
  },
  {
   "cell_type": "code",
   "execution_count": 2,
   "id": "fa5d6224",
   "metadata": {},
   "outputs": [],
   "source": [
    "df = pd.DataFrame()\n",
    "df = df.ta.ticker( code ,period = '20y' )\n"
   ]
  },
  {
   "cell_type": "code",
   "execution_count": 3,
   "id": "2e917108",
   "metadata": {},
   "outputs": [
    {
     "data": {
      "text/html": [
       "<div>\n",
       "<style scoped>\n",
       "    .dataframe tbody tr th:only-of-type {\n",
       "        vertical-align: middle;\n",
       "    }\n",
       "\n",
       "    .dataframe tbody tr th {\n",
       "        vertical-align: top;\n",
       "    }\n",
       "\n",
       "    .dataframe thead th {\n",
       "        text-align: right;\n",
       "    }\n",
       "</style>\n",
       "<table border=\"1\" class=\"dataframe\">\n",
       "  <thead>\n",
       "    <tr style=\"text-align: right;\">\n",
       "      <th></th>\n",
       "      <th>Open</th>\n",
       "      <th>High</th>\n",
       "      <th>Low</th>\n",
       "      <th>Close</th>\n",
       "      <th>Volume</th>\n",
       "      <th>Dividends</th>\n",
       "      <th>Stock Splits</th>\n",
       "    </tr>\n",
       "    <tr>\n",
       "      <th>Date</th>\n",
       "      <th></th>\n",
       "      <th></th>\n",
       "      <th></th>\n",
       "      <th></th>\n",
       "      <th></th>\n",
       "      <th></th>\n",
       "      <th></th>\n",
       "    </tr>\n",
       "  </thead>\n",
       "  <tbody>\n",
       "    <tr>\n",
       "      <th>2021-11-02</th>\n",
       "      <td>25609.009766</td>\n",
       "      <td>25639.660156</td>\n",
       "      <td>25030.689453</td>\n",
       "      <td>25099.669922</td>\n",
       "      <td>1964593300</td>\n",
       "      <td>0</td>\n",
       "      <td>0</td>\n",
       "    </tr>\n",
       "    <tr>\n",
       "      <th>2021-11-03</th>\n",
       "      <td>25060.929688</td>\n",
       "      <td>25187.089844</td>\n",
       "      <td>24808.589844</td>\n",
       "      <td>25024.750000</td>\n",
       "      <td>1690457100</td>\n",
       "      <td>0</td>\n",
       "      <td>0</td>\n",
       "    </tr>\n",
       "    <tr>\n",
       "      <th>2021-11-04</th>\n",
       "      <td>25141.099609</td>\n",
       "      <td>25244.980469</td>\n",
       "      <td>25010.359375</td>\n",
       "      <td>25225.189453</td>\n",
       "      <td>1639485100</td>\n",
       "      <td>0</td>\n",
       "      <td>0</td>\n",
       "    </tr>\n",
       "    <tr>\n",
       "      <th>2021-11-05</th>\n",
       "      <td>24950.679688</td>\n",
       "      <td>25049.369141</td>\n",
       "      <td>24724.390625</td>\n",
       "      <td>24870.509766</td>\n",
       "      <td>2020689200</td>\n",
       "      <td>0</td>\n",
       "      <td>0</td>\n",
       "    </tr>\n",
       "    <tr>\n",
       "      <th>2021-11-08</th>\n",
       "      <td>24743.539062</td>\n",
       "      <td>24837.769531</td>\n",
       "      <td>24633.570312</td>\n",
       "      <td>24763.769531</td>\n",
       "      <td>0</td>\n",
       "      <td>0</td>\n",
       "      <td>0</td>\n",
       "    </tr>\n",
       "  </tbody>\n",
       "</table>\n",
       "</div>"
      ],
      "text/plain": [
       "                    Open          High           Low         Close  \\\n",
       "Date                                                                 \n",
       "2021-11-02  25609.009766  25639.660156  25030.689453  25099.669922   \n",
       "2021-11-03  25060.929688  25187.089844  24808.589844  25024.750000   \n",
       "2021-11-04  25141.099609  25244.980469  25010.359375  25225.189453   \n",
       "2021-11-05  24950.679688  25049.369141  24724.390625  24870.509766   \n",
       "2021-11-08  24743.539062  24837.769531  24633.570312  24763.769531   \n",
       "\n",
       "                Volume  Dividends  Stock Splits  \n",
       "Date                                             \n",
       "2021-11-02  1964593300          0             0  \n",
       "2021-11-03  1690457100          0             0  \n",
       "2021-11-04  1639485100          0             0  \n",
       "2021-11-05  2020689200          0             0  \n",
       "2021-11-08           0          0             0  "
      ]
     },
     "execution_count": 3,
     "metadata": {},
     "output_type": "execute_result"
    }
   ],
   "source": [
    "df.iloc[-5:, :]"
   ]
  },
  {
   "cell_type": "code",
   "execution_count": 6,
   "id": "b11ef9b4",
   "metadata": {},
   "outputs": [],
   "source": [
    "strategy_name =\"RSI, KDJ, EMA\"\n",
    "MyStrategy = ta.Strategy(\n",
    "    name= strategy_name,\n",
    "    ta=[\n",
    "        {\"kind\": \"rsi\", \"length\":14},\n",
    "        {\"kind\": \"rsi\", \"length\":5},\n",
    "        {\"kind\": \"kdj\"},\n",
    "        {\"kind\": \"ema\", \"length\":20},\n",
    "        {\"kind\": \"ema\", \"length\":60},\n",
    "        {\"kind\": \"ema\", \"length\":120},\n",
    "        {\"kind\": \"vwap\"}\n",
    "    ]\n",
    ")\n",
    "\n",
    "# (2) Run the Strategy\n",
    "df.ta.strategy(MyStrategy)\n"
   ]
  },
  {
   "cell_type": "code",
   "execution_count": 7,
   "id": "418f62a9",
   "metadata": {},
   "outputs": [],
   "source": [
    "df.to_excel(str(code)+\" \"+str(strategy_name)+\"-TA indicator.xlsx\")"
   ]
  },
  {
   "cell_type": "code",
   "execution_count": 8,
   "id": "606d9c0b",
   "metadata": {},
   "outputs": [
    {
     "data": {
      "text/plain": [
       "'\"\\nStrategy\\n1. EMA20>EMA60>EMA120, \\n2. Using KDJ \\n    buy signal: kdj cross above [20,30]\\n    sell signal: kdj cross below [70,80]\\n3. Boll band \\n'"
      ]
     },
     "execution_count": 8,
     "metadata": {},
     "output_type": "execute_result"
    }
   ],
   "source": [
    "\"\"\"\"\n",
    "Uptrend Strategy\n",
    "1. EMA20>EMA60>EMA120\n",
    "2. Using KDJ \n",
    "    buy signal: kdj cross above [20,30]\n",
    "    sell signal: kdj cross below [70,80]\n",
    "\n",
    "\n",
    "\n",
    "\"\"\""
   ]
  },
  {
   "cell_type": "code",
   "execution_count": 13,
   "id": "6247cff8",
   "metadata": {},
   "outputs": [
    {
     "ename": "ImportError",
     "evalue": "cannot import name 'get_stock_data' from partially initialized module 'fastquant' (most likely due to a circular import) (c:\\Users\\yeunglo\\OneDrive - The Hong Kong Polytechnic University\\Python\\投資\\fastquant.py)",
     "output_type": "error",
     "traceback": [
      "\u001b[1;31m---------------------------------------------------------------------------\u001b[0m",
      "\u001b[1;31mImportError\u001b[0m                               Traceback (most recent call last)",
      "\u001b[1;32m<ipython-input-13-f22ae87ea4e6>\u001b[0m in \u001b[0;36m<module>\u001b[1;34m\u001b[0m\n\u001b[1;32m----> 1\u001b[1;33m \u001b[1;32mimport\u001b[0m \u001b[0mfastquant\u001b[0m\u001b[1;33m\u001b[0m\u001b[1;33m\u001b[0m\u001b[0m\n\u001b[0m\u001b[0;32m      2\u001b[0m \u001b[1;33m\u001b[0m\u001b[0m\n\u001b[0;32m      3\u001b[0m \u001b[0mstock\u001b[0m \u001b[1;33m=\u001b[0m \u001b[0mget_stock_data\u001b[0m\u001b[1;33m(\u001b[0m\u001b[1;34m\"^HSI\"\u001b[0m\u001b[1;33m,\u001b[0m \u001b[1;34m\"2007-01-01\"\u001b[0m\u001b[1;33m,\u001b[0m \u001b[1;34m\"2021-11-05\"\u001b[0m\u001b[1;33m)\u001b[0m\u001b[1;33m\u001b[0m\u001b[1;33m\u001b[0m\u001b[0m\n\u001b[0;32m      4\u001b[0m \u001b[1;33m\u001b[0m\u001b[0m\n\u001b[0;32m      5\u001b[0m \u001b[1;32mfrom\u001b[0m \u001b[0mfastquant\u001b[0m \u001b[1;32mimport\u001b[0m \u001b[0mbacktest\u001b[0m\u001b[1;33m\u001b[0m\u001b[1;33m\u001b[0m\u001b[0m\n",
      "\u001b[1;32mc:\\Users\\yeunglo\\OneDrive - The Hong Kong Polytechnic University\\Python\\投資\\fastquant.py\u001b[0m in \u001b[0;36m<module>\u001b[1;34m\u001b[0m\n\u001b[0;32m      9\u001b[0m \u001b[1;31m# pip install fastquant\u001b[0m\u001b[1;33m\u001b[0m\u001b[1;33m\u001b[0m\u001b[1;33m\u001b[0m\u001b[0m\n\u001b[0;32m     10\u001b[0m \u001b[1;33m\u001b[0m\u001b[0m\n\u001b[1;32m---> 11\u001b[1;33m \u001b[1;32mfrom\u001b[0m \u001b[0mfastquant\u001b[0m \u001b[1;32mimport\u001b[0m \u001b[0mget_stock_data\u001b[0m\u001b[1;33m\u001b[0m\u001b[1;33m\u001b[0m\u001b[0m\n\u001b[0m\u001b[0;32m     12\u001b[0m \u001b[0mstock\u001b[0m \u001b[1;33m=\u001b[0m \u001b[0mget_stock_data\u001b[0m\u001b[1;33m(\u001b[0m\u001b[1;34m\"IWM\"\u001b[0m\u001b[1;33m,\u001b[0m \u001b[1;34m\"2015-01-01\"\u001b[0m\u001b[1;33m,\u001b[0m \u001b[1;34m\"2021-11-05\"\u001b[0m\u001b[1;33m)\u001b[0m\u001b[1;33m\u001b[0m\u001b[1;33m\u001b[0m\u001b[0m\n\u001b[0;32m     13\u001b[0m \u001b[0mprint\u001b[0m\u001b[1;33m(\u001b[0m\u001b[0mstock\u001b[0m\u001b[1;33m.\u001b[0m\u001b[0mhead\u001b[0m\u001b[1;33m(\u001b[0m\u001b[1;33m)\u001b[0m\u001b[1;33m)\u001b[0m\u001b[1;33m\u001b[0m\u001b[1;33m\u001b[0m\u001b[0m\n",
      "\u001b[1;31mImportError\u001b[0m: cannot import name 'get_stock_data' from partially initialized module 'fastquant' (most likely due to a circular import) (c:\\Users\\yeunglo\\OneDrive - The Hong Kong Polytechnic University\\Python\\投資\\fastquant.py)"
     ]
    }
   ],
   "source": [
    "import fastquant\n",
    "\n",
    "stock = get_stock_data(\"^HSI\", \"2007-01-01\", \"2021-11-05\")\n",
    "\n",
    "from fastquant import backtest\n",
    "backtest('RSI', stock, rsi_lower=25, rsi_upper=75)\n"
   ]
  },
  {
   "cell_type": "markdown",
   "id": "9a65a229",
   "metadata": {},
   "source": []
  }
 ],
 "metadata": {
  "interpreter": {
   "hash": "ba0c5e32492283d9bcc053e9da9d5bf9719bd9ca7c5e426e6ec5d3cde67ca4e2"
  },
  "kernelspec": {
   "display_name": "Python 3 (ipykernel)",
   "language": "python",
   "name": "python3"
  },
  "language_info": {
   "codemirror_mode": {
    "name": "ipython",
    "version": 3
   },
   "file_extension": ".py",
   "mimetype": "text/x-python",
   "name": "python",
   "nbconvert_exporter": "python",
   "pygments_lexer": "ipython3",
   "version": "3.8.12"
  }
 },
 "nbformat": 4,
 "nbformat_minor": 5
}
