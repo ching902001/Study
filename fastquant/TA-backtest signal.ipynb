{
 "cells": [
  {
   "cell_type": "code",
   "execution_count": 1,
   "id": "631539ea",
   "metadata": {},
   "outputs": [],
   "source": [
    "import pandas as pd\n",
    "import pandas_ta as ta\n",
    "\n",
    "code = \"^HSI\"\n"
   ]
  },
  {
   "cell_type": "code",
   "execution_count": 3,
   "id": "9e06b39f",
   "metadata": {},
   "outputs": [],
   "source": [
    "ETF_list = ['XLF' , 'IWM', 'VIXY', 'EFA', 'QQQ', 'SPY', \"ARKK\", 'ARKG', 'VUG','HDV', 'VWO', 'DSI', 'VEU']"
   ]
  },
  {
   "cell_type": "markdown",
   "id": "0a2a3d90",
   "metadata": {},
   "source": [
    "\n",
    "\"\"\"\n",
    "Popular ETF\n",
    "XLF  金融\n",
    "IWM  羅素\n",
    "VIXY 短期貨\n",
    "EFA  歐澳遠東指數\n",
    "QQQ  NASDAQ\n",
    "SPY 標普500\n",
    "ARKK 木頭姐\n",
    "ARKG\n",
    "VUG Vanguard Growth ETF with big IT company\n",
    "HDV  iShares Core High Dividend ETF\n",
    "VWO   Vanguard FTSE Emerging Markets ETF\n",
    "DSI   iShares MSCI KLD 400 Social ETF\n",
    "VEU  Vanguard FTSE All-World ex-US ETF\n",
    "\"\"\""
   ]
  },
  {
   "cell_type": "code",
   "execution_count": 5,
   "id": "6d4f0365",
   "metadata": {},
   "outputs": [],
   "source": [
    "for x in ETF_list: \n",
    "    df+\"%s\"%(x) = pd.DataFrame()\n",
    "     = df.ta.ticker( code ,period = '20y' )\n"
   ]
  },
  {
   "cell_type": "code",
   "execution_count": 7,
   "id": "2e917108",
   "metadata": {},
   "outputs": [
    {
     "data": {
      "text/html": [
       "<div>\n",
       "<style scoped>\n",
       "    .dataframe tbody tr th:only-of-type {\n",
       "        vertical-align: middle;\n",
       "    }\n",
       "\n",
       "    .dataframe tbody tr th {\n",
       "        vertical-align: top;\n",
       "    }\n",
       "\n",
       "    .dataframe thead th {\n",
       "        text-align: right;\n",
       "    }\n",
       "</style>\n",
       "<table border=\"1\" class=\"dataframe\">\n",
       "  <thead>\n",
       "    <tr style=\"text-align: right;\">\n",
       "      <th></th>\n",
       "      <th>Open</th>\n",
       "      <th>High</th>\n",
       "      <th>Low</th>\n",
       "      <th>Close</th>\n",
       "      <th>Volume</th>\n",
       "      <th>Dividends</th>\n",
       "      <th>Stock Splits</th>\n",
       "    </tr>\n",
       "    <tr>\n",
       "      <th>Date</th>\n",
       "      <th></th>\n",
       "      <th></th>\n",
       "      <th></th>\n",
       "      <th></th>\n",
       "      <th></th>\n",
       "      <th></th>\n",
       "      <th></th>\n",
       "    </tr>\n",
       "  </thead>\n",
       "  <tbody>\n",
       "    <tr>\n",
       "      <th>2021-11-02</th>\n",
       "      <td>25609.009766</td>\n",
       "      <td>25639.660156</td>\n",
       "      <td>25030.689453</td>\n",
       "      <td>25099.669922</td>\n",
       "      <td>1964593300</td>\n",
       "      <td>0</td>\n",
       "      <td>0</td>\n",
       "    </tr>\n",
       "    <tr>\n",
       "      <th>2021-11-03</th>\n",
       "      <td>25060.929688</td>\n",
       "      <td>25187.089844</td>\n",
       "      <td>24808.589844</td>\n",
       "      <td>25024.750000</td>\n",
       "      <td>1690457100</td>\n",
       "      <td>0</td>\n",
       "      <td>0</td>\n",
       "    </tr>\n",
       "    <tr>\n",
       "      <th>2021-11-04</th>\n",
       "      <td>25141.099609</td>\n",
       "      <td>25244.980469</td>\n",
       "      <td>25010.359375</td>\n",
       "      <td>25225.189453</td>\n",
       "      <td>1639485100</td>\n",
       "      <td>0</td>\n",
       "      <td>0</td>\n",
       "    </tr>\n",
       "    <tr>\n",
       "      <th>2021-11-05</th>\n",
       "      <td>24950.679688</td>\n",
       "      <td>25049.369141</td>\n",
       "      <td>24724.390625</td>\n",
       "      <td>24870.509766</td>\n",
       "      <td>2020689200</td>\n",
       "      <td>0</td>\n",
       "      <td>0</td>\n",
       "    </tr>\n",
       "    <tr>\n",
       "      <th>2021-11-08</th>\n",
       "      <td>24743.539062</td>\n",
       "      <td>24837.769531</td>\n",
       "      <td>24633.570312</td>\n",
       "      <td>24762.019531</td>\n",
       "      <td>0</td>\n",
       "      <td>0</td>\n",
       "      <td>0</td>\n",
       "    </tr>\n",
       "  </tbody>\n",
       "</table>\n",
       "</div>"
      ],
      "text/plain": [
       "                    Open          High           Low         Close  \\\n",
       "Date                                                                 \n",
       "2021-11-02  25609.009766  25639.660156  25030.689453  25099.669922   \n",
       "2021-11-03  25060.929688  25187.089844  24808.589844  25024.750000   \n",
       "2021-11-04  25141.099609  25244.980469  25010.359375  25225.189453   \n",
       "2021-11-05  24950.679688  25049.369141  24724.390625  24870.509766   \n",
       "2021-11-08  24743.539062  24837.769531  24633.570312  24762.019531   \n",
       "\n",
       "                Volume  Dividends  Stock Splits  \n",
       "Date                                             \n",
       "2021-11-02  1964593300          0             0  \n",
       "2021-11-03  1690457100          0             0  \n",
       "2021-11-04  1639485100          0             0  \n",
       "2021-11-05  2020689200          0             0  \n",
       "2021-11-08           0          0             0  "
      ]
     },
     "execution_count": 7,
     "metadata": {},
     "output_type": "execute_result"
    }
   ],
   "source": [
    "df.iloc[-5:, :]"
   ]
  },
  {
   "cell_type": "code",
   "execution_count": 8,
   "id": "b11ef9b4",
   "metadata": {},
   "outputs": [],
   "source": [
    "strategy_name =\"RSI, KDJ, EMA\"\n",
    "MyStrategy = ta.Strategy(\n",
    "    name= strategy_name,\n",
    "    ta=[\n",
    "        {\"kind\": \"rsi\"},\n",
    "        {\"kind\": \"kdj\"},\n",
    "        {\"kind\": \"ema\", \"length\":20},\n",
    "        {\"kind\": \"ema\", \"length\":60},\n",
    "        {\"kind\": \"ema\", \"length\":120},\n",
    "        {\"kind\": \"vwap\"}\n",
    "    ]\n",
    ")\n",
    "\n",
    "# (2) Run the Strategy\n",
    "df.ta.strategy(MyStrategy)\n"
   ]
  },
  {
   "cell_type": "code",
   "execution_count": 9,
   "id": "418f62a9",
   "metadata": {},
   "outputs": [],
   "source": [
    "df.to_excel(str(code)+\" \"+str(strategy_name)+\"-TA indicator.xlsx\")"
   ]
  },
  {
   "cell_type": "code",
   "execution_count": null,
   "id": "8eee5dac",
   "metadata": {},
   "outputs": [],
   "source": [
    "\"\"\"\"\n",
    "Uptrend Strategy\n",
    "1. EMA20>EMA60>EMA120\n",
    "2. Using KDJ \n",
    "    buy signal: kdj cross above [20,30]\n",
    "    sell signal: kdj cross below [70,80]\n",
    "    \n",
    "\"\"\""
   ]
  },
  {
   "cell_type": "code",
   "execution_count": null,
   "id": "e78715a3",
   "metadata": {},
   "outputs": [],
   "source": [
    "\n",
    "from fastquant import get_stock_data\n",
    "\n",
    "stock = get_stock_data(\"^HSI\", \"2007-01-01\", \"2021-11-05\")\n",
    "\n",
    "from fastquant import backtest\n",
    "backtest('rsi', stock, rsi_lower=15, rsi_upper=30,rsi_period=3, plot=1)"
   ]
  },
  {
   "cell_type": "code",
   "execution_count": 8,
   "id": "b947c2f0",
   "metadata": {},
   "outputs": [
    {
     "name": "stdout",
     "output_type": "stream",
     "text": [
      "Using matplotlib backend: Qt5Agg\n",
      "[*********************100%***********************]  1 of 1 completed\n"
     ]
    },
    {
     "ename": "KeyError",
     "evalue": "'ema'",
     "output_type": "error",
     "traceback": [
      "\u001b[1;31m---------------------------------------------------------------------------\u001b[0m",
      "\u001b[1;31mKeyError\u001b[0m                                  Traceback (most recent call last)",
      "\u001b[1;32m~\\AppData\\Local\\Temp/ipykernel_17560/969500210.py\u001b[0m in \u001b[0;36m<module>\u001b[1;34m\u001b[0m\n\u001b[0;32m      9\u001b[0m     \u001b[1;34m\"ema\"\u001b[0m\u001b[1;33m:\u001b[0m \u001b[1;33m{\u001b[0m\u001b[1;34m\"fast_period\"\u001b[0m\u001b[1;33m:\u001b[0m \u001b[1;36m20\u001b[0m\u001b[1;33m,\u001b[0m \u001b[1;34m\"middle_period\"\u001b[0m\u001b[1;33m:\u001b[0m \u001b[1;36m60\u001b[0m\u001b[1;33m,\u001b[0m \u001b[1;34m\"slow_period\"\u001b[0m\u001b[1;33m:\u001b[0m\u001b[1;36m120\u001b[0m \u001b[1;33m}\u001b[0m\u001b[1;33m\u001b[0m\u001b[1;33m\u001b[0m\u001b[0m\n\u001b[0;32m     10\u001b[0m } \n\u001b[1;32m---> 11\u001b[1;33m \u001b[0mres\u001b[0m \u001b[1;33m=\u001b[0m \u001b[0mbacktest\u001b[0m\u001b[1;33m(\u001b[0m\u001b[1;34m\"multi\"\u001b[0m\u001b[1;33m,\u001b[0m \u001b[0mstock\u001b[0m\u001b[1;33m,\u001b[0m \u001b[0mstrats\u001b[0m\u001b[1;33m=\u001b[0m\u001b[0mstrats\u001b[0m\u001b[1;33m)\u001b[0m\u001b[1;33m\u001b[0m\u001b[1;33m\u001b[0m\u001b[0m\n\u001b[0m",
      "\u001b[1;32m~\\AppData\\Roaming\\Python\\Python38\\site-packages\\fastquant\\backtest\\backtest.py\u001b[0m in \u001b[0;36mbacktest\u001b[1;34m(strategy, data, commission, init_cash, plot, fractional, verbose, sort_by, sentiments, strats, return_history, return_plot, channel, symbol, allow_short, short_max, figsize, multi_line_indicators, data_class, data_kwargs, plot_kwargs, fig, **kwargs)\u001b[0m\n\u001b[0;32m    144\u001b[0m         \u001b[1;32mfor\u001b[0m \u001b[0mstrat\u001b[0m\u001b[1;33m,\u001b[0m \u001b[0mparams\u001b[0m \u001b[1;32min\u001b[0m \u001b[0mstrats\u001b[0m\u001b[1;33m.\u001b[0m\u001b[0mitems\u001b[0m\u001b[1;33m(\u001b[0m\u001b[1;33m)\u001b[0m\u001b[1;33m:\u001b[0m\u001b[1;33m\u001b[0m\u001b[1;33m\u001b[0m\u001b[0m\n\u001b[0;32m    145\u001b[0m             cerebro.optstrategy(\n\u001b[1;32m--> 146\u001b[1;33m                 \u001b[0mSTRATEGY_MAPPING\u001b[0m\u001b[1;33m[\u001b[0m\u001b[0mstrat\u001b[0m\u001b[1;33m]\u001b[0m\u001b[1;33m,\u001b[0m\u001b[1;33m\u001b[0m\u001b[1;33m\u001b[0m\u001b[0m\n\u001b[0m\u001b[0;32m    147\u001b[0m                 \u001b[0minit_cash\u001b[0m\u001b[1;33m=\u001b[0m\u001b[1;33m[\u001b[0m\u001b[0minit_cash\u001b[0m\u001b[1;33m]\u001b[0m\u001b[1;33m,\u001b[0m\u001b[1;33m\u001b[0m\u001b[1;33m\u001b[0m\u001b[0m\n\u001b[0;32m    148\u001b[0m                 \u001b[0mcommission\u001b[0m\u001b[1;33m=\u001b[0m\u001b[0mcommission\u001b[0m\u001b[1;33m,\u001b[0m\u001b[1;33m\u001b[0m\u001b[1;33m\u001b[0m\u001b[0m\n",
      "\u001b[1;31mKeyError\u001b[0m: 'ema'"
     ]
    }
   ],
   "source": [
    "%matplotlib\n",
    "\n",
    "from fastquant import backtest, get_stock_data\n",
    "stock = get_stock_data(\"^HSI\", \"2008-01-01\", \"2021-11-07\")\n",
    "\n",
    "# Utilize single set of parameters\n",
    "strats = { \n",
    "    \"macd\": {\"fast_period\": 5, \"slow_period\": 13, \"signal_period\": 9, 'sma_period': 20, \"dir_period\": 14 }, \n",
    "    \"ema\": {\"fast_period\": 20, \"middle_period\": 60, \"slow_period\":120 }\n",
    "} \n",
    "res = backtest(\"multi\", stock, strats=strats)\n"
   ]
  }
 ],
 "metadata": {
  "interpreter": {
   "hash": "ba0c5e32492283d9bcc053e9da9d5bf9719bd9ca7c5e426e6ec5d3cde67ca4e2"
  },
  "kernelspec": {
   "display_name": "Python 3.8.5 64-bit ('base': conda)",
   "name": "python3"
  },
  "language_info": {
   "codemirror_mode": {
    "name": "ipython",
    "version": 3
   },
   "file_extension": ".py",
   "mimetype": "text/x-python",
   "name": "python",
   "nbconvert_exporter": "python",
   "pygments_lexer": "ipython3",
   "version": "3.8.12"
  }
 },
 "nbformat": 4,
 "nbformat_minor": 5
}
